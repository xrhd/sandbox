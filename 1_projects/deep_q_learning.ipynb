{
  "nbformat": 4,
  "nbformat_minor": 0,
  "metadata": {
    "colab": {
      "provenance": [],
      "collapsed_sections": [
        "ZiSo7IsA5PbN",
        "qrI6L_ec5NLo"
      ],
      "authorship_tag": "ABX9TyODNirJF2OqKMlRczhfgJyv",
      "include_colab_link": true
    },
    "kernelspec": {
      "name": "python3",
      "display_name": "Python 3"
    },
    "language_info": {
      "name": "python"
    },
    "widgets": {
      "application/vnd.jupyter.widget-state+json": {
        "dc28208c516944cc8f2526be069ee88e": {
          "model_module": "@jupyter-widgets/controls",
          "model_name": "HBoxModel",
          "model_module_version": "1.5.0",
          "state": {
            "_dom_classes": [],
            "_model_module": "@jupyter-widgets/controls",
            "_model_module_version": "1.5.0",
            "_model_name": "HBoxModel",
            "_view_count": null,
            "_view_module": "@jupyter-widgets/controls",
            "_view_module_version": "1.5.0",
            "_view_name": "HBoxView",
            "box_style": "",
            "children": [
              "IPY_MODEL_e670f382a4644794b1d6076bc54202e8",
              "IPY_MODEL_8f4d4de74fbe4b2281dfa834de96f3cf",
              "IPY_MODEL_0cebdb52951647aaa4c6f55b68db9d76"
            ],
            "layout": "IPY_MODEL_a2c7c8e78e2e4981acd651d1bd5a2028"
          }
        },
        "e670f382a4644794b1d6076bc54202e8": {
          "model_module": "@jupyter-widgets/controls",
          "model_name": "HTMLModel",
          "model_module_version": "1.5.0",
          "state": {
            "_dom_classes": [],
            "_model_module": "@jupyter-widgets/controls",
            "_model_module_version": "1.5.0",
            "_model_name": "HTMLModel",
            "_view_count": null,
            "_view_module": "@jupyter-widgets/controls",
            "_view_module_version": "1.5.0",
            "_view_name": "HTMLView",
            "description": "",
            "description_tooltip": null,
            "layout": "IPY_MODEL_371ac2fa08c64642a45805f305281c90",
            "placeholder": "​",
            "style": "IPY_MODEL_7e1f27dc5cf347519512eb847b325df6",
            "value": "Collecting results and creating a gif: 100%"
          }
        },
        "8f4d4de74fbe4b2281dfa834de96f3cf": {
          "model_module": "@jupyter-widgets/controls",
          "model_name": "FloatProgressModel",
          "model_module_version": "1.5.0",
          "state": {
            "_dom_classes": [],
            "_model_module": "@jupyter-widgets/controls",
            "_model_module_version": "1.5.0",
            "_model_name": "FloatProgressModel",
            "_view_count": null,
            "_view_module": "@jupyter-widgets/controls",
            "_view_module_version": "1.5.0",
            "_view_name": "ProgressView",
            "bar_style": "success",
            "description": "",
            "description_tooltip": null,
            "layout": "IPY_MODEL_d05a8e9a7a0843aa9c92da6c99a23d5d",
            "max": 210,
            "min": 0,
            "orientation": "horizontal",
            "style": "IPY_MODEL_e67c7612b2eb46f094ed2c27a119725a",
            "value": 210
          }
        },
        "0cebdb52951647aaa4c6f55b68db9d76": {
          "model_module": "@jupyter-widgets/controls",
          "model_name": "HTMLModel",
          "model_module_version": "1.5.0",
          "state": {
            "_dom_classes": [],
            "_model_module": "@jupyter-widgets/controls",
            "_model_module_version": "1.5.0",
            "_model_name": "HTMLModel",
            "_view_count": null,
            "_view_module": "@jupyter-widgets/controls",
            "_view_module_version": "1.5.0",
            "_view_name": "HTMLView",
            "description": "",
            "description_tooltip": null,
            "layout": "IPY_MODEL_468767da7976490090d9142a8f66700b",
            "placeholder": "​",
            "style": "IPY_MODEL_a8e2398f1707481ea6ca32ec22f12ee0",
            "value": " 210/210 [00:34&lt;00:00, 54.08it/s]"
          }
        },
        "a2c7c8e78e2e4981acd651d1bd5a2028": {
          "model_module": "@jupyter-widgets/base",
          "model_name": "LayoutModel",
          "model_module_version": "1.2.0",
          "state": {
            "_model_module": "@jupyter-widgets/base",
            "_model_module_version": "1.2.0",
            "_model_name": "LayoutModel",
            "_view_count": null,
            "_view_module": "@jupyter-widgets/base",
            "_view_module_version": "1.2.0",
            "_view_name": "LayoutView",
            "align_content": null,
            "align_items": null,
            "align_self": null,
            "border": null,
            "bottom": null,
            "display": null,
            "flex": null,
            "flex_flow": null,
            "grid_area": null,
            "grid_auto_columns": null,
            "grid_auto_flow": null,
            "grid_auto_rows": null,
            "grid_column": null,
            "grid_gap": null,
            "grid_row": null,
            "grid_template_areas": null,
            "grid_template_columns": null,
            "grid_template_rows": null,
            "height": null,
            "justify_content": null,
            "justify_items": null,
            "left": null,
            "margin": null,
            "max_height": null,
            "max_width": null,
            "min_height": null,
            "min_width": null,
            "object_fit": null,
            "object_position": null,
            "order": null,
            "overflow": null,
            "overflow_x": null,
            "overflow_y": null,
            "padding": null,
            "right": null,
            "top": null,
            "visibility": null,
            "width": null
          }
        },
        "371ac2fa08c64642a45805f305281c90": {
          "model_module": "@jupyter-widgets/base",
          "model_name": "LayoutModel",
          "model_module_version": "1.2.0",
          "state": {
            "_model_module": "@jupyter-widgets/base",
            "_model_module_version": "1.2.0",
            "_model_name": "LayoutModel",
            "_view_count": null,
            "_view_module": "@jupyter-widgets/base",
            "_view_module_version": "1.2.0",
            "_view_name": "LayoutView",
            "align_content": null,
            "align_items": null,
            "align_self": null,
            "border": null,
            "bottom": null,
            "display": null,
            "flex": null,
            "flex_flow": null,
            "grid_area": null,
            "grid_auto_columns": null,
            "grid_auto_flow": null,
            "grid_auto_rows": null,
            "grid_column": null,
            "grid_gap": null,
            "grid_row": null,
            "grid_template_areas": null,
            "grid_template_columns": null,
            "grid_template_rows": null,
            "height": null,
            "justify_content": null,
            "justify_items": null,
            "left": null,
            "margin": null,
            "max_height": null,
            "max_width": null,
            "min_height": null,
            "min_width": null,
            "object_fit": null,
            "object_position": null,
            "order": null,
            "overflow": null,
            "overflow_x": null,
            "overflow_y": null,
            "padding": null,
            "right": null,
            "top": null,
            "visibility": null,
            "width": null
          }
        },
        "7e1f27dc5cf347519512eb847b325df6": {
          "model_module": "@jupyter-widgets/controls",
          "model_name": "DescriptionStyleModel",
          "model_module_version": "1.5.0",
          "state": {
            "_model_module": "@jupyter-widgets/controls",
            "_model_module_version": "1.5.0",
            "_model_name": "DescriptionStyleModel",
            "_view_count": null,
            "_view_module": "@jupyter-widgets/base",
            "_view_module_version": "1.2.0",
            "_view_name": "StyleView",
            "description_width": ""
          }
        },
        "d05a8e9a7a0843aa9c92da6c99a23d5d": {
          "model_module": "@jupyter-widgets/base",
          "model_name": "LayoutModel",
          "model_module_version": "1.2.0",
          "state": {
            "_model_module": "@jupyter-widgets/base",
            "_model_module_version": "1.2.0",
            "_model_name": "LayoutModel",
            "_view_count": null,
            "_view_module": "@jupyter-widgets/base",
            "_view_module_version": "1.2.0",
            "_view_name": "LayoutView",
            "align_content": null,
            "align_items": null,
            "align_self": null,
            "border": null,
            "bottom": null,
            "display": null,
            "flex": null,
            "flex_flow": null,
            "grid_area": null,
            "grid_auto_columns": null,
            "grid_auto_flow": null,
            "grid_auto_rows": null,
            "grid_column": null,
            "grid_gap": null,
            "grid_row": null,
            "grid_template_areas": null,
            "grid_template_columns": null,
            "grid_template_rows": null,
            "height": null,
            "justify_content": null,
            "justify_items": null,
            "left": null,
            "margin": null,
            "max_height": null,
            "max_width": null,
            "min_height": null,
            "min_width": null,
            "object_fit": null,
            "object_position": null,
            "order": null,
            "overflow": null,
            "overflow_x": null,
            "overflow_y": null,
            "padding": null,
            "right": null,
            "top": null,
            "visibility": null,
            "width": null
          }
        },
        "e67c7612b2eb46f094ed2c27a119725a": {
          "model_module": "@jupyter-widgets/controls",
          "model_name": "ProgressStyleModel",
          "model_module_version": "1.5.0",
          "state": {
            "_model_module": "@jupyter-widgets/controls",
            "_model_module_version": "1.5.0",
            "_model_name": "ProgressStyleModel",
            "_view_count": null,
            "_view_module": "@jupyter-widgets/base",
            "_view_module_version": "1.2.0",
            "_view_name": "StyleView",
            "bar_color": null,
            "description_width": ""
          }
        },
        "468767da7976490090d9142a8f66700b": {
          "model_module": "@jupyter-widgets/base",
          "model_name": "LayoutModel",
          "model_module_version": "1.2.0",
          "state": {
            "_model_module": "@jupyter-widgets/base",
            "_model_module_version": "1.2.0",
            "_model_name": "LayoutModel",
            "_view_count": null,
            "_view_module": "@jupyter-widgets/base",
            "_view_module_version": "1.2.0",
            "_view_name": "LayoutView",
            "align_content": null,
            "align_items": null,
            "align_self": null,
            "border": null,
            "bottom": null,
            "display": null,
            "flex": null,
            "flex_flow": null,
            "grid_area": null,
            "grid_auto_columns": null,
            "grid_auto_flow": null,
            "grid_auto_rows": null,
            "grid_column": null,
            "grid_gap": null,
            "grid_row": null,
            "grid_template_areas": null,
            "grid_template_columns": null,
            "grid_template_rows": null,
            "height": null,
            "justify_content": null,
            "justify_items": null,
            "left": null,
            "margin": null,
            "max_height": null,
            "max_width": null,
            "min_height": null,
            "min_width": null,
            "object_fit": null,
            "object_position": null,
            "order": null,
            "overflow": null,
            "overflow_x": null,
            "overflow_y": null,
            "padding": null,
            "right": null,
            "top": null,
            "visibility": null,
            "width": null
          }
        },
        "a8e2398f1707481ea6ca32ec22f12ee0": {
          "model_module": "@jupyter-widgets/controls",
          "model_name": "DescriptionStyleModel",
          "model_module_version": "1.5.0",
          "state": {
            "_model_module": "@jupyter-widgets/controls",
            "_model_module_version": "1.5.0",
            "_model_name": "DescriptionStyleModel",
            "_view_count": null,
            "_view_module": "@jupyter-widgets/base",
            "_view_module_version": "1.2.0",
            "_view_name": "StyleView",
            "description_width": ""
          }
        }
      }
    }
  },
  "cells": [
    {
      "cell_type": "markdown",
      "metadata": {
        "id": "view-in-github",
        "colab_type": "text"
      },
      "source": [
        "<a href=\"https://colab.research.google.com/github/xrhd/sandbox/blob/main/1_projects/deep_q_learning.ipynb\" target=\"_parent\"><img src=\"https://colab.research.google.com/assets/colab-badge.svg\" alt=\"Open In Colab\"/></a>"
      ]
    },
    {
      "cell_type": "markdown",
      "source": [
        "# Setup"
      ],
      "metadata": {
        "id": "ZiSo7IsA5PbN"
      }
    },
    {
      "cell_type": "code",
      "execution_count": 28,
      "metadata": {
        "colab": {
          "base_uri": "https://localhost:8080/"
        },
        "id": "121IxA1C1p6Z",
        "outputId": "ebb61cd5-93de-47dd-97fa-cea88a72dd30"
      },
      "outputs": [
        {
          "output_type": "stream",
          "name": "stdout",
          "text": [
            "\u001b[2mUsing Python 3.11.11 environment at: /usr\u001b[0m\n",
            "\u001b[2K\u001b[2mResolved \u001b[1m20 packages\u001b[0m \u001b[2min 367ms\u001b[0m\u001b[0m\n",
            "\u001b[2K\u001b[37m⠙\u001b[0m \u001b[2mPreparing packages...\u001b[0m (0/1)\n",
            "\u001b[2K\u001b[1A\u001b[37m⠙\u001b[0m \u001b[2mPreparing packages...\u001b[0m (0/1)\n",
            "\u001b[2K\u001b[2mPrepared \u001b[1m1 package\u001b[0m \u001b[2min 20ms\u001b[0m\u001b[0m\n",
            "\u001b[2K\u001b[2mInstalled \u001b[1m1 package\u001b[0m \u001b[2min 3ms\u001b[0m\u001b[0m\n",
            " \u001b[32m+\u001b[39m \u001b[1mpyvirtualdisplay\u001b[0m\u001b[2m==3.0\u001b[0m\n"
          ]
        }
      ],
      "source": [
        "!uv pip install jax gym numpy matplotlib pyvirtualdisplay --system"
      ]
    },
    {
      "cell_type": "code",
      "source": [
        "import numpy as np\n",
        "import jax\n",
        "import jax.numpy as jnp\n",
        "from jax import grad, jit, random\n",
        "import optax # Import optax directly\n",
        "# from jax.experimental import stencil # This import remains the samel\n",
        "import gym\n",
        "from collections import deque\n",
        "import matplotlib.pyplot as plt\n",
        "\n",
        "from jax.nn import relu"
      ],
      "metadata": {
        "id": "mcaoHCOV1uj_"
      },
      "execution_count": 14,
      "outputs": []
    },
    {
      "cell_type": "code",
      "source": [
        "env = gym.make('CartPole-v1')"
      ],
      "metadata": {
        "colab": {
          "base_uri": "https://localhost:8080/"
        },
        "id": "18F_-_Sk1weJ",
        "outputId": "1c4d3ec2-0b05-4a65-dc27-f3a225ced9f4"
      },
      "execution_count": 5,
      "outputs": [
        {
          "output_type": "stream",
          "name": "stderr",
          "text": [
            "/usr/local/lib/python3.11/dist-packages/gym/core.py:317: DeprecationWarning: \u001b[33mWARN: Initializing wrapper in old step API which returns one bool instead of two. It is recommended to set `new_step_api=True` to use new step API. This will be the default behaviour in future.\u001b[0m\n",
            "  deprecation(\n",
            "/usr/local/lib/python3.11/dist-packages/gym/wrappers/step_api_compatibility.py:39: DeprecationWarning: \u001b[33mWARN: Initializing environment in old step API which returns one bool instead of two. It is recommended to set `new_step_api=True` to use new step API. This will be the default behaviour in future.\u001b[0m\n",
            "  deprecation(\n"
          ]
        }
      ]
    },
    {
      "cell_type": "markdown",
      "source": [
        "# Model"
      ],
      "metadata": {
        "id": "qrI6L_ec5NLo"
      }
    },
    {
      "cell_type": "code",
      "source": [
        "def init_weights(rng, shape):\n",
        "    \"\"\"Initialize weights for a neural network layer.\"\"\"\n",
        "    scale = 2.0 / shape[0] ** 0.5\n",
        "    weight = random.normal(rng, shape) * scale\n",
        "    return weight\n",
        "\n",
        "def neural_network(rng, input_shape, hidden_size=64, output_size=2):\n",
        "    \"\"\"Define a simple neural network with two hidden layers.\"\"\"\n",
        "    # Input layer\n",
        "    rng, input_rng = random.split(rng)\n",
        "    input_weights = init_weights(input_rng, (input_shape, hidden_size))\n",
        "    input_bias = jnp.zeros((hidden_size,))\n",
        "\n",
        "    # Hidden layer\n",
        "    rng, hidden_rng = random.split(rng)\n",
        "    hidden_weights = init_weights(hidden_rng, (hidden_size, hidden_size))\n",
        "    hidden_bias = jnp.zeros((hidden_size,))\n",
        "\n",
        "    # Output layer\n",
        "    rng, output_rng = random.split(rng)\n",
        "    output_weights = init_weights(output_rng, (hidden_size, output_size))\n",
        "    output_bias = jnp.zeros((output_size,))\n",
        "\n",
        "    return (input_weights, input_bias,\n",
        "            hidden_weights, hidden_bias,\n",
        "            output_weights, output_bias)\n",
        "\n",
        "def forward_pass(params, x):\n",
        "    \"\"\"Forward pass of the neural network.\"\"\"\n",
        "    (input_weights, input_bias,\n",
        "     hidden_weights, hidden_bias,\n",
        "     output_weights, output_bias) = params\n",
        "\n",
        "    # First hidden layer\n",
        "    x = jnp.dot(x, input_weights) + input_bias\n",
        "    # Use relu from jax.nn\n",
        "    x = relu(x)\n",
        "\n",
        "    # Second hidden layer\n",
        "    x = jnp.dot(x, hidden_weights) + hidden_bias\n",
        "    # Use relu from jax.nn\n",
        "    x = relu(x)\n",
        "\n",
        "    # Output layer\n",
        "    x = jnp.dot(x, output_weights) + output_bias\n",
        "    return x\n",
        "\n",
        "# Initialize the neural network\n",
        "rng = random.PRNGKey(0)\n",
        "input_shape = env.observation_space.shape[0]\n",
        "params = neural_network(rng, input_shape)"
      ],
      "metadata": {
        "id": "Lno3vOfs2Mj3"
      },
      "execution_count": 15,
      "outputs": []
    },
    {
      "cell_type": "markdown",
      "source": [
        "# Train"
      ],
      "metadata": {
        "id": "KzjmcZ2A5KW0"
      }
    },
    {
      "cell_type": "code",
      "source": [
        "replay_buffer = deque(maxlen=10000)"
      ],
      "metadata": {
        "id": "wDRuNUn_2Qf0"
      },
      "execution_count": 7,
      "outputs": []
    },
    {
      "cell_type": "code",
      "source": [
        "gamma = 0.99\n",
        "epsilon = 1.0\n",
        "epsilon_min = 0.01\n",
        "epsilon_decay = 0.995\n",
        "batch_size = 64\n",
        "update_target_every = 10\n",
        "learning_rate = 0.001"
      ],
      "metadata": {
        "id": "O0C3m6tp2TbN"
      },
      "execution_count": 8,
      "outputs": []
    },
    {
      "cell_type": "code",
      "source": [
        "def loss(params, batch):\n",
        "    states = batch[0]\n",
        "    actions = batch[1]\n",
        "    rewards = batch[2]\n",
        "    next_states = batch[3]\n",
        "    dones = batch[4]\n",
        "\n",
        "    # Get current Q-values\n",
        "    q_values = forward_pass(params, states)\n",
        "\n",
        "    # Get next Q-values\n",
        "    next_q_values = forward_pass(params, next_states)\n",
        "\n",
        "    # Calculate target Q-values\n",
        "    target = rewards + gamma * (1 - dones) * jnp.max(next_q_values, axis=1)\n",
        "\n",
        "    # Calculate loss\n",
        "    loss = jnp.mean((q_values[jnp.arange(batch_size), actions] - target) ** 2)\n",
        "    return loss"
      ],
      "metadata": {
        "id": "hWyBbb5z2VdW"
      },
      "execution_count": 9,
      "outputs": []
    },
    {
      "cell_type": "code",
      "source": [
        "@jit\n",
        "def update(params, opt_state, batch):\n",
        "    grads = grad(loss)(params, batch)\n",
        "    updates, opt_state = optax.adam(learning_rate).update(grads, opt_state)\n",
        "    params = optax.apply_updates(params, updates)\n",
        "    return params, opt_state"
      ],
      "metadata": {
        "id": "U8YND4kJ2Xnz"
      },
      "execution_count": 10,
      "outputs": []
    },
    {
      "cell_type": "code",
      "source": [
        "# Initialize the optimizer\n",
        "opt_state = optax.adam(learning_rate).init(params)\n",
        "\n",
        "# Initialize the best score\n",
        "best_score = 0\n",
        "\n",
        "# Initialize the episode rewards\n",
        "episode_rewards = []\n",
        "\n",
        "for episode in range(1000):\n",
        "    state = env.reset()\n",
        "    total_reward = 0\n",
        "    done = False\n",
        "\n",
        "    while not done:\n",
        "        # Epsilon-greedy action selection\n",
        "        if np.random.random() < epsilon:\n",
        "            action = env.action_space.sample()\n",
        "        else:\n",
        "            # Convert state to JAX array\n",
        "            state_jax = jnp.array([state])\n",
        "            q_values = forward_pass(params, state_jax)\n",
        "            # print(q_values[0].shape)\n",
        "            # action = np.argmax(q_values[0])\n",
        "            action = int(np.argmax(q_values[0]))\n",
        "\n",
        "        # Take action in the environment\n",
        "        next_state, reward, done, _ = env.step(action)\n",
        "\n",
        "        # Store the experience in the replay buffer\n",
        "        replay_buffer.append((state, action, reward, next_state, done))\n",
        "        state = next_state\n",
        "        total_reward += reward\n",
        "\n",
        "        # Train the model\n",
        "        if len(replay_buffer) >= batch_size:\n",
        "            # Sample a batch from the replay buffer\n",
        "            batch = np.random.choice(len(replay_buffer), batch_size, replace=False)\n",
        "            batch = [replay_buffer[i] for i in batch]\n",
        "\n",
        "            # Convert batch to JAX arrays\n",
        "            states = jnp.array([x[0] for x in batch])\n",
        "            actions = jnp.array([x[1] for x in batch])\n",
        "            rewards = jnp.array([x[2] for x in batch])\n",
        "            next_states = jnp.array([x[3] for x in batch])\n",
        "            dones = jnp.array([x[4] for x in batch])\n",
        "\n",
        "            # Update the model\n",
        "            params, opt_state = update(params, opt_state, (states, actions, rewards, next_states, dones))\n",
        "\n",
        "        # Decay epsilon\n",
        "        if epsilon > epsilon_min:\n",
        "            epsilon *= epsilon_decay\n",
        "\n",
        "    # Update the best score\n",
        "    if total_reward > best_score:\n",
        "        best_score = total_reward\n",
        "\n",
        "    # Append the episode reward\n",
        "    episode_rewards.append(total_reward)\n",
        "\n",
        "    # Print progress\n",
        "    print(f'Episode: {episode+1}, Total Reward: {total_reward}, Best Score: {best_score}, Epsilon: {epsilon}')"
      ],
      "metadata": {
        "colab": {
          "base_uri": "https://localhost:8080/",
          "height": 1000
        },
        "id": "EQH5Bc9u2aGu",
        "outputId": "8b095747-3a54-427d-ecb3-9ad6710ad3f5"
      },
      "execution_count": 20,
      "outputs": [
        {
          "output_type": "stream",
          "name": "stdout",
          "text": [
            "Episode: 1, Total Reward: 12.0, Best Score: 12.0, Epsilon: 0.032109488810599975\n",
            "Episode: 2, Total Reward: 49.0, Best Score: 49.0, Epsilon: 0.025116802354115567\n",
            "Episode: 3, Total Reward: 17.0, Best Score: 49.0, Epsilon: 0.023065173234186005\n",
            "Episode: 4, Total Reward: 40.0, Best Score: 49.0, Epsilon: 0.018874695352408037\n",
            "Episode: 5, Total Reward: 17.0, Best Score: 49.0, Epsilon: 0.017332943577287888\n",
            "Episode: 6, Total Reward: 13.0, Best Score: 49.0, Epsilon: 0.016239489508417658\n",
            "Episode: 7, Total Reward: 77.0, Best Score: 77.0, Epsilon: 0.011039504743095268\n",
            "Episode: 8, Total Reward: 9.0, Best Score: 77.0, Epsilon: 0.010552547534153616\n",
            "Episode: 9, Total Reward: 14.0, Best Score: 77.0, Epsilon: 0.00998645168764533\n",
            "Episode: 10, Total Reward: 91.0, Best Score: 91.0, Epsilon: 0.00998645168764533\n",
            "Episode: 11, Total Reward: 19.0, Best Score: 91.0, Epsilon: 0.00998645168764533\n",
            "Episode: 12, Total Reward: 12.0, Best Score: 91.0, Epsilon: 0.00998645168764533\n",
            "Episode: 13, Total Reward: 25.0, Best Score: 91.0, Epsilon: 0.00998645168764533\n",
            "Episode: 14, Total Reward: 22.0, Best Score: 91.0, Epsilon: 0.00998645168764533\n",
            "Episode: 15, Total Reward: 68.0, Best Score: 91.0, Epsilon: 0.00998645168764533\n",
            "Episode: 16, Total Reward: 61.0, Best Score: 91.0, Epsilon: 0.00998645168764533\n",
            "Episode: 17, Total Reward: 131.0, Best Score: 131.0, Epsilon: 0.00998645168764533\n",
            "Episode: 18, Total Reward: 55.0, Best Score: 131.0, Epsilon: 0.00998645168764533\n",
            "Episode: 19, Total Reward: 17.0, Best Score: 131.0, Epsilon: 0.00998645168764533\n",
            "Episode: 20, Total Reward: 25.0, Best Score: 131.0, Epsilon: 0.00998645168764533\n",
            "Episode: 21, Total Reward: 71.0, Best Score: 131.0, Epsilon: 0.00998645168764533\n",
            "Episode: 22, Total Reward: 39.0, Best Score: 131.0, Epsilon: 0.00998645168764533\n",
            "Episode: 23, Total Reward: 34.0, Best Score: 131.0, Epsilon: 0.00998645168764533\n",
            "Episode: 24, Total Reward: 60.0, Best Score: 131.0, Epsilon: 0.00998645168764533\n",
            "Episode: 25, Total Reward: 26.0, Best Score: 131.0, Epsilon: 0.00998645168764533\n",
            "Episode: 26, Total Reward: 132.0, Best Score: 132.0, Epsilon: 0.00998645168764533\n",
            "Episode: 27, Total Reward: 74.0, Best Score: 132.0, Epsilon: 0.00998645168764533\n",
            "Episode: 28, Total Reward: 39.0, Best Score: 132.0, Epsilon: 0.00998645168764533\n",
            "Episode: 29, Total Reward: 99.0, Best Score: 132.0, Epsilon: 0.00998645168764533\n",
            "Episode: 30, Total Reward: 59.0, Best Score: 132.0, Epsilon: 0.00998645168764533\n",
            "Episode: 31, Total Reward: 63.0, Best Score: 132.0, Epsilon: 0.00998645168764533\n",
            "Episode: 32, Total Reward: 68.0, Best Score: 132.0, Epsilon: 0.00998645168764533\n",
            "Episode: 33, Total Reward: 69.0, Best Score: 132.0, Epsilon: 0.00998645168764533\n",
            "Episode: 34, Total Reward: 56.0, Best Score: 132.0, Epsilon: 0.00998645168764533\n",
            "Episode: 35, Total Reward: 92.0, Best Score: 132.0, Epsilon: 0.00998645168764533\n",
            "Episode: 36, Total Reward: 66.0, Best Score: 132.0, Epsilon: 0.00998645168764533\n",
            "Episode: 37, Total Reward: 91.0, Best Score: 132.0, Epsilon: 0.00998645168764533\n",
            "Episode: 38, Total Reward: 55.0, Best Score: 132.0, Epsilon: 0.00998645168764533\n",
            "Episode: 39, Total Reward: 113.0, Best Score: 132.0, Epsilon: 0.00998645168764533\n",
            "Episode: 40, Total Reward: 50.0, Best Score: 132.0, Epsilon: 0.00998645168764533\n",
            "Episode: 41, Total Reward: 67.0, Best Score: 132.0, Epsilon: 0.00998645168764533\n",
            "Episode: 42, Total Reward: 98.0, Best Score: 132.0, Epsilon: 0.00998645168764533\n",
            "Episode: 43, Total Reward: 84.0, Best Score: 132.0, Epsilon: 0.00998645168764533\n",
            "Episode: 44, Total Reward: 74.0, Best Score: 132.0, Epsilon: 0.00998645168764533\n",
            "Episode: 45, Total Reward: 90.0, Best Score: 132.0, Epsilon: 0.00998645168764533\n",
            "Episode: 46, Total Reward: 110.0, Best Score: 132.0, Epsilon: 0.00998645168764533\n",
            "Episode: 47, Total Reward: 72.0, Best Score: 132.0, Epsilon: 0.00998645168764533\n",
            "Episode: 48, Total Reward: 128.0, Best Score: 132.0, Epsilon: 0.00998645168764533\n",
            "Episode: 49, Total Reward: 96.0, Best Score: 132.0, Epsilon: 0.00998645168764533\n",
            "Episode: 50, Total Reward: 81.0, Best Score: 132.0, Epsilon: 0.00998645168764533\n",
            "Episode: 51, Total Reward: 85.0, Best Score: 132.0, Epsilon: 0.00998645168764533\n",
            "Episode: 52, Total Reward: 103.0, Best Score: 132.0, Epsilon: 0.00998645168764533\n",
            "Episode: 53, Total Reward: 102.0, Best Score: 132.0, Epsilon: 0.00998645168764533\n",
            "Episode: 54, Total Reward: 64.0, Best Score: 132.0, Epsilon: 0.00998645168764533\n",
            "Episode: 55, Total Reward: 68.0, Best Score: 132.0, Epsilon: 0.00998645168764533\n",
            "Episode: 56, Total Reward: 151.0, Best Score: 151.0, Epsilon: 0.00998645168764533\n",
            "Episode: 57, Total Reward: 94.0, Best Score: 151.0, Epsilon: 0.00998645168764533\n",
            "Episode: 58, Total Reward: 75.0, Best Score: 151.0, Epsilon: 0.00998645168764533\n",
            "Episode: 59, Total Reward: 90.0, Best Score: 151.0, Epsilon: 0.00998645168764533\n",
            "Episode: 60, Total Reward: 72.0, Best Score: 151.0, Epsilon: 0.00998645168764533\n",
            "Episode: 61, Total Reward: 83.0, Best Score: 151.0, Epsilon: 0.00998645168764533\n",
            "Episode: 62, Total Reward: 199.0, Best Score: 199.0, Epsilon: 0.00998645168764533\n",
            "Episode: 63, Total Reward: 93.0, Best Score: 199.0, Epsilon: 0.00998645168764533\n",
            "Episode: 64, Total Reward: 145.0, Best Score: 199.0, Epsilon: 0.00998645168764533\n",
            "Episode: 65, Total Reward: 92.0, Best Score: 199.0, Epsilon: 0.00998645168764533\n",
            "Episode: 66, Total Reward: 135.0, Best Score: 199.0, Epsilon: 0.00998645168764533\n",
            "Episode: 67, Total Reward: 181.0, Best Score: 199.0, Epsilon: 0.00998645168764533\n",
            "Episode: 68, Total Reward: 118.0, Best Score: 199.0, Epsilon: 0.00998645168764533\n",
            "Episode: 69, Total Reward: 145.0, Best Score: 199.0, Epsilon: 0.00998645168764533\n",
            "Episode: 70, Total Reward: 146.0, Best Score: 199.0, Epsilon: 0.00998645168764533\n",
            "Episode: 71, Total Reward: 128.0, Best Score: 199.0, Epsilon: 0.00998645168764533\n",
            "Episode: 72, Total Reward: 99.0, Best Score: 199.0, Epsilon: 0.00998645168764533\n",
            "Episode: 73, Total Reward: 115.0, Best Score: 199.0, Epsilon: 0.00998645168764533\n",
            "Episode: 74, Total Reward: 145.0, Best Score: 199.0, Epsilon: 0.00998645168764533\n",
            "Episode: 75, Total Reward: 184.0, Best Score: 199.0, Epsilon: 0.00998645168764533\n",
            "Episode: 76, Total Reward: 86.0, Best Score: 199.0, Epsilon: 0.00998645168764533\n",
            "Episode: 77, Total Reward: 151.0, Best Score: 199.0, Epsilon: 0.00998645168764533\n",
            "Episode: 78, Total Reward: 73.0, Best Score: 199.0, Epsilon: 0.00998645168764533\n",
            "Episode: 79, Total Reward: 142.0, Best Score: 199.0, Epsilon: 0.00998645168764533\n",
            "Episode: 80, Total Reward: 133.0, Best Score: 199.0, Epsilon: 0.00998645168764533\n",
            "Episode: 81, Total Reward: 145.0, Best Score: 199.0, Epsilon: 0.00998645168764533\n",
            "Episode: 82, Total Reward: 289.0, Best Score: 289.0, Epsilon: 0.00998645168764533\n",
            "Episode: 83, Total Reward: 75.0, Best Score: 289.0, Epsilon: 0.00998645168764533\n",
            "Episode: 84, Total Reward: 78.0, Best Score: 289.0, Epsilon: 0.00998645168764533\n",
            "Episode: 85, Total Reward: 135.0, Best Score: 289.0, Epsilon: 0.00998645168764533\n",
            "Episode: 86, Total Reward: 136.0, Best Score: 289.0, Epsilon: 0.00998645168764533\n",
            "Episode: 87, Total Reward: 110.0, Best Score: 289.0, Epsilon: 0.00998645168764533\n",
            "Episode: 88, Total Reward: 217.0, Best Score: 289.0, Epsilon: 0.00998645168764533\n",
            "Episode: 89, Total Reward: 95.0, Best Score: 289.0, Epsilon: 0.00998645168764533\n",
            "Episode: 90, Total Reward: 130.0, Best Score: 289.0, Epsilon: 0.00998645168764533\n",
            "Episode: 91, Total Reward: 133.0, Best Score: 289.0, Epsilon: 0.00998645168764533\n",
            "Episode: 92, Total Reward: 106.0, Best Score: 289.0, Epsilon: 0.00998645168764533\n",
            "Episode: 93, Total Reward: 170.0, Best Score: 289.0, Epsilon: 0.00998645168764533\n",
            "Episode: 94, Total Reward: 124.0, Best Score: 289.0, Epsilon: 0.00998645168764533\n",
            "Episode: 95, Total Reward: 111.0, Best Score: 289.0, Epsilon: 0.00998645168764533\n",
            "Episode: 96, Total Reward: 192.0, Best Score: 289.0, Epsilon: 0.00998645168764533\n",
            "Episode: 97, Total Reward: 138.0, Best Score: 289.0, Epsilon: 0.00998645168764533\n",
            "Episode: 98, Total Reward: 171.0, Best Score: 289.0, Epsilon: 0.00998645168764533\n",
            "Episode: 99, Total Reward: 180.0, Best Score: 289.0, Epsilon: 0.00998645168764533\n",
            "Episode: 100, Total Reward: 130.0, Best Score: 289.0, Epsilon: 0.00998645168764533\n",
            "Episode: 101, Total Reward: 122.0, Best Score: 289.0, Epsilon: 0.00998645168764533\n",
            "Episode: 102, Total Reward: 159.0, Best Score: 289.0, Epsilon: 0.00998645168764533\n",
            "Episode: 103, Total Reward: 236.0, Best Score: 289.0, Epsilon: 0.00998645168764533\n",
            "Episode: 104, Total Reward: 137.0, Best Score: 289.0, Epsilon: 0.00998645168764533\n",
            "Episode: 105, Total Reward: 302.0, Best Score: 302.0, Epsilon: 0.00998645168764533\n",
            "Episode: 106, Total Reward: 156.0, Best Score: 302.0, Epsilon: 0.00998645168764533\n",
            "Episode: 107, Total Reward: 151.0, Best Score: 302.0, Epsilon: 0.00998645168764533\n",
            "Episode: 108, Total Reward: 291.0, Best Score: 302.0, Epsilon: 0.00998645168764533\n",
            "Episode: 109, Total Reward: 207.0, Best Score: 302.0, Epsilon: 0.00998645168764533\n",
            "Episode: 110, Total Reward: 143.0, Best Score: 302.0, Epsilon: 0.00998645168764533\n",
            "Episode: 111, Total Reward: 212.0, Best Score: 302.0, Epsilon: 0.00998645168764533\n",
            "Episode: 112, Total Reward: 187.0, Best Score: 302.0, Epsilon: 0.00998645168764533\n",
            "Episode: 113, Total Reward: 232.0, Best Score: 302.0, Epsilon: 0.00998645168764533\n",
            "Episode: 114, Total Reward: 206.0, Best Score: 302.0, Epsilon: 0.00998645168764533\n",
            "Episode: 115, Total Reward: 217.0, Best Score: 302.0, Epsilon: 0.00998645168764533\n",
            "Episode: 116, Total Reward: 199.0, Best Score: 302.0, Epsilon: 0.00998645168764533\n",
            "Episode: 117, Total Reward: 234.0, Best Score: 302.0, Epsilon: 0.00998645168764533\n",
            "Episode: 118, Total Reward: 215.0, Best Score: 302.0, Epsilon: 0.00998645168764533\n",
            "Episode: 119, Total Reward: 277.0, Best Score: 302.0, Epsilon: 0.00998645168764533\n",
            "Episode: 120, Total Reward: 213.0, Best Score: 302.0, Epsilon: 0.00998645168764533\n",
            "Episode: 121, Total Reward: 368.0, Best Score: 368.0, Epsilon: 0.00998645168764533\n",
            "Episode: 122, Total Reward: 339.0, Best Score: 368.0, Epsilon: 0.00998645168764533\n",
            "Episode: 123, Total Reward: 338.0, Best Score: 368.0, Epsilon: 0.00998645168764533\n",
            "Episode: 124, Total Reward: 304.0, Best Score: 368.0, Epsilon: 0.00998645168764533\n",
            "Episode: 125, Total Reward: 385.0, Best Score: 385.0, Epsilon: 0.00998645168764533\n",
            "Episode: 126, Total Reward: 390.0, Best Score: 390.0, Epsilon: 0.00998645168764533\n",
            "Episode: 127, Total Reward: 307.0, Best Score: 390.0, Epsilon: 0.00998645168764533\n",
            "Episode: 128, Total Reward: 449.0, Best Score: 449.0, Epsilon: 0.00998645168764533\n",
            "Episode: 129, Total Reward: 333.0, Best Score: 449.0, Epsilon: 0.00998645168764533\n",
            "Episode: 130, Total Reward: 500.0, Best Score: 500.0, Epsilon: 0.00998645168764533\n",
            "Episode: 131, Total Reward: 361.0, Best Score: 500.0, Epsilon: 0.00998645168764533\n",
            "Episode: 132, Total Reward: 343.0, Best Score: 500.0, Epsilon: 0.00998645168764533\n",
            "Episode: 133, Total Reward: 351.0, Best Score: 500.0, Epsilon: 0.00998645168764533\n",
            "Episode: 134, Total Reward: 392.0, Best Score: 500.0, Epsilon: 0.00998645168764533\n",
            "Episode: 135, Total Reward: 420.0, Best Score: 500.0, Epsilon: 0.00998645168764533\n",
            "Episode: 136, Total Reward: 325.0, Best Score: 500.0, Epsilon: 0.00998645168764533\n",
            "Episode: 137, Total Reward: 385.0, Best Score: 500.0, Epsilon: 0.00998645168764533\n",
            "Episode: 138, Total Reward: 395.0, Best Score: 500.0, Epsilon: 0.00998645168764533\n",
            "Episode: 139, Total Reward: 374.0, Best Score: 500.0, Epsilon: 0.00998645168764533\n",
            "Episode: 140, Total Reward: 356.0, Best Score: 500.0, Epsilon: 0.00998645168764533\n",
            "Episode: 141, Total Reward: 354.0, Best Score: 500.0, Epsilon: 0.00998645168764533\n",
            "Episode: 142, Total Reward: 325.0, Best Score: 500.0, Epsilon: 0.00998645168764533\n",
            "Episode: 143, Total Reward: 500.0, Best Score: 500.0, Epsilon: 0.00998645168764533\n",
            "Episode: 144, Total Reward: 277.0, Best Score: 500.0, Epsilon: 0.00998645168764533\n",
            "Episode: 145, Total Reward: 494.0, Best Score: 500.0, Epsilon: 0.00998645168764533\n",
            "Episode: 146, Total Reward: 459.0, Best Score: 500.0, Epsilon: 0.00998645168764533\n",
            "Episode: 147, Total Reward: 321.0, Best Score: 500.0, Epsilon: 0.00998645168764533\n",
            "Episode: 148, Total Reward: 310.0, Best Score: 500.0, Epsilon: 0.00998645168764533\n",
            "Episode: 149, Total Reward: 500.0, Best Score: 500.0, Epsilon: 0.00998645168764533\n",
            "Episode: 150, Total Reward: 500.0, Best Score: 500.0, Epsilon: 0.00998645168764533\n",
            "Episode: 151, Total Reward: 387.0, Best Score: 500.0, Epsilon: 0.00998645168764533\n",
            "Episode: 152, Total Reward: 253.0, Best Score: 500.0, Epsilon: 0.00998645168764533\n",
            "Episode: 153, Total Reward: 500.0, Best Score: 500.0, Epsilon: 0.00998645168764533\n",
            "Episode: 154, Total Reward: 363.0, Best Score: 500.0, Epsilon: 0.00998645168764533\n",
            "Episode: 155, Total Reward: 500.0, Best Score: 500.0, Epsilon: 0.00998645168764533\n",
            "Episode: 156, Total Reward: 302.0, Best Score: 500.0, Epsilon: 0.00998645168764533\n",
            "Episode: 157, Total Reward: 406.0, Best Score: 500.0, Epsilon: 0.00998645168764533\n",
            "Episode: 158, Total Reward: 375.0, Best Score: 500.0, Epsilon: 0.00998645168764533\n",
            "Episode: 159, Total Reward: 390.0, Best Score: 500.0, Epsilon: 0.00998645168764533\n",
            "Episode: 160, Total Reward: 474.0, Best Score: 500.0, Epsilon: 0.00998645168764533\n",
            "Episode: 161, Total Reward: 500.0, Best Score: 500.0, Epsilon: 0.00998645168764533\n",
            "Episode: 162, Total Reward: 444.0, Best Score: 500.0, Epsilon: 0.00998645168764533\n",
            "Episode: 163, Total Reward: 398.0, Best Score: 500.0, Epsilon: 0.00998645168764533\n",
            "Episode: 164, Total Reward: 467.0, Best Score: 500.0, Epsilon: 0.00998645168764533\n",
            "Episode: 165, Total Reward: 460.0, Best Score: 500.0, Epsilon: 0.00998645168764533\n",
            "Episode: 166, Total Reward: 500.0, Best Score: 500.0, Epsilon: 0.00998645168764533\n",
            "Episode: 167, Total Reward: 275.0, Best Score: 500.0, Epsilon: 0.00998645168764533\n",
            "Episode: 168, Total Reward: 500.0, Best Score: 500.0, Epsilon: 0.00998645168764533\n",
            "Episode: 169, Total Reward: 500.0, Best Score: 500.0, Epsilon: 0.00998645168764533\n",
            "Episode: 170, Total Reward: 500.0, Best Score: 500.0, Epsilon: 0.00998645168764533\n",
            "Episode: 171, Total Reward: 500.0, Best Score: 500.0, Epsilon: 0.00998645168764533\n",
            "Episode: 172, Total Reward: 353.0, Best Score: 500.0, Epsilon: 0.00998645168764533\n",
            "Episode: 173, Total Reward: 270.0, Best Score: 500.0, Epsilon: 0.00998645168764533\n",
            "Episode: 174, Total Reward: 243.0, Best Score: 500.0, Epsilon: 0.00998645168764533\n",
            "Episode: 175, Total Reward: 429.0, Best Score: 500.0, Epsilon: 0.00998645168764533\n",
            "Episode: 176, Total Reward: 466.0, Best Score: 500.0, Epsilon: 0.00998645168764533\n",
            "Episode: 177, Total Reward: 500.0, Best Score: 500.0, Epsilon: 0.00998645168764533\n",
            "Episode: 178, Total Reward: 319.0, Best Score: 500.0, Epsilon: 0.00998645168764533\n",
            "Episode: 179, Total Reward: 312.0, Best Score: 500.0, Epsilon: 0.00998645168764533\n",
            "Episode: 180, Total Reward: 307.0, Best Score: 500.0, Epsilon: 0.00998645168764533\n",
            "Episode: 181, Total Reward: 500.0, Best Score: 500.0, Epsilon: 0.00998645168764533\n",
            "Episode: 182, Total Reward: 363.0, Best Score: 500.0, Epsilon: 0.00998645168764533\n",
            "Episode: 183, Total Reward: 272.0, Best Score: 500.0, Epsilon: 0.00998645168764533\n",
            "Episode: 184, Total Reward: 500.0, Best Score: 500.0, Epsilon: 0.00998645168764533\n",
            "Episode: 185, Total Reward: 263.0, Best Score: 500.0, Epsilon: 0.00998645168764533\n",
            "Episode: 186, Total Reward: 245.0, Best Score: 500.0, Epsilon: 0.00998645168764533\n",
            "Episode: 187, Total Reward: 58.0, Best Score: 500.0, Epsilon: 0.00998645168764533\n",
            "Episode: 188, Total Reward: 204.0, Best Score: 500.0, Epsilon: 0.00998645168764533\n",
            "Episode: 189, Total Reward: 88.0, Best Score: 500.0, Epsilon: 0.00998645168764533\n",
            "Episode: 190, Total Reward: 500.0, Best Score: 500.0, Epsilon: 0.00998645168764533\n",
            "Episode: 191, Total Reward: 81.0, Best Score: 500.0, Epsilon: 0.00998645168764533\n",
            "Episode: 192, Total Reward: 500.0, Best Score: 500.0, Epsilon: 0.00998645168764533\n",
            "Episode: 193, Total Reward: 261.0, Best Score: 500.0, Epsilon: 0.00998645168764533\n",
            "Episode: 194, Total Reward: 233.0, Best Score: 500.0, Epsilon: 0.00998645168764533\n",
            "Episode: 195, Total Reward: 202.0, Best Score: 500.0, Epsilon: 0.00998645168764533\n",
            "Episode: 196, Total Reward: 254.0, Best Score: 500.0, Epsilon: 0.00998645168764533\n",
            "Episode: 197, Total Reward: 215.0, Best Score: 500.0, Epsilon: 0.00998645168764533\n",
            "Episode: 198, Total Reward: 230.0, Best Score: 500.0, Epsilon: 0.00998645168764533\n",
            "Episode: 199, Total Reward: 482.0, Best Score: 500.0, Epsilon: 0.00998645168764533\n",
            "Episode: 200, Total Reward: 250.0, Best Score: 500.0, Epsilon: 0.00998645168764533\n",
            "Episode: 201, Total Reward: 196.0, Best Score: 500.0, Epsilon: 0.00998645168764533\n",
            "Episode: 202, Total Reward: 257.0, Best Score: 500.0, Epsilon: 0.00998645168764533\n",
            "Episode: 203, Total Reward: 416.0, Best Score: 500.0, Epsilon: 0.00998645168764533\n",
            "Episode: 204, Total Reward: 500.0, Best Score: 500.0, Epsilon: 0.00998645168764533\n",
            "Episode: 205, Total Reward: 396.0, Best Score: 500.0, Epsilon: 0.00998645168764533\n",
            "Episode: 206, Total Reward: 247.0, Best Score: 500.0, Epsilon: 0.00998645168764533\n",
            "Episode: 207, Total Reward: 260.0, Best Score: 500.0, Epsilon: 0.00998645168764533\n",
            "Episode: 208, Total Reward: 261.0, Best Score: 500.0, Epsilon: 0.00998645168764533\n",
            "Episode: 209, Total Reward: 239.0, Best Score: 500.0, Epsilon: 0.00998645168764533\n",
            "Episode: 210, Total Reward: 253.0, Best Score: 500.0, Epsilon: 0.00998645168764533\n",
            "Episode: 211, Total Reward: 329.0, Best Score: 500.0, Epsilon: 0.00998645168764533\n",
            "Episode: 212, Total Reward: 243.0, Best Score: 500.0, Epsilon: 0.00998645168764533\n",
            "Episode: 213, Total Reward: 304.0, Best Score: 500.0, Epsilon: 0.00998645168764533\n",
            "Episode: 214, Total Reward: 220.0, Best Score: 500.0, Epsilon: 0.00998645168764533\n",
            "Episode: 215, Total Reward: 431.0, Best Score: 500.0, Epsilon: 0.00998645168764533\n",
            "Episode: 216, Total Reward: 240.0, Best Score: 500.0, Epsilon: 0.00998645168764533\n",
            "Episode: 217, Total Reward: 500.0, Best Score: 500.0, Epsilon: 0.00998645168764533\n",
            "Episode: 218, Total Reward: 299.0, Best Score: 500.0, Epsilon: 0.00998645168764533\n",
            "Episode: 219, Total Reward: 237.0, Best Score: 500.0, Epsilon: 0.00998645168764533\n",
            "Episode: 220, Total Reward: 323.0, Best Score: 500.0, Epsilon: 0.00998645168764533\n",
            "Episode: 221, Total Reward: 237.0, Best Score: 500.0, Epsilon: 0.00998645168764533\n",
            "Episode: 222, Total Reward: 256.0, Best Score: 500.0, Epsilon: 0.00998645168764533\n",
            "Episode: 223, Total Reward: 219.0, Best Score: 500.0, Epsilon: 0.00998645168764533\n",
            "Episode: 224, Total Reward: 500.0, Best Score: 500.0, Epsilon: 0.00998645168764533\n",
            "Episode: 225, Total Reward: 500.0, Best Score: 500.0, Epsilon: 0.00998645168764533\n",
            "Episode: 226, Total Reward: 500.0, Best Score: 500.0, Epsilon: 0.00998645168764533\n",
            "Episode: 227, Total Reward: 316.0, Best Score: 500.0, Epsilon: 0.00998645168764533\n",
            "Episode: 228, Total Reward: 272.0, Best Score: 500.0, Epsilon: 0.00998645168764533\n",
            "Episode: 229, Total Reward: 268.0, Best Score: 500.0, Epsilon: 0.00998645168764533\n",
            "Episode: 230, Total Reward: 490.0, Best Score: 500.0, Epsilon: 0.00998645168764533\n",
            "Episode: 231, Total Reward: 443.0, Best Score: 500.0, Epsilon: 0.00998645168764533\n",
            "Episode: 232, Total Reward: 233.0, Best Score: 500.0, Epsilon: 0.00998645168764533\n",
            "Episode: 233, Total Reward: 271.0, Best Score: 500.0, Epsilon: 0.00998645168764533\n",
            "Episode: 234, Total Reward: 259.0, Best Score: 500.0, Epsilon: 0.00998645168764533\n",
            "Episode: 235, Total Reward: 267.0, Best Score: 500.0, Epsilon: 0.00998645168764533\n",
            "Episode: 236, Total Reward: 259.0, Best Score: 500.0, Epsilon: 0.00998645168764533\n",
            "Episode: 237, Total Reward: 424.0, Best Score: 500.0, Epsilon: 0.00998645168764533\n",
            "Episode: 238, Total Reward: 380.0, Best Score: 500.0, Epsilon: 0.00998645168764533\n",
            "Episode: 239, Total Reward: 368.0, Best Score: 500.0, Epsilon: 0.00998645168764533\n",
            "Episode: 240, Total Reward: 223.0, Best Score: 500.0, Epsilon: 0.00998645168764533\n",
            "Episode: 241, Total Reward: 326.0, Best Score: 500.0, Epsilon: 0.00998645168764533\n",
            "Episode: 242, Total Reward: 500.0, Best Score: 500.0, Epsilon: 0.00998645168764533\n",
            "Episode: 243, Total Reward: 256.0, Best Score: 500.0, Epsilon: 0.00998645168764533\n",
            "Episode: 244, Total Reward: 292.0, Best Score: 500.0, Epsilon: 0.00998645168764533\n",
            "Episode: 245, Total Reward: 500.0, Best Score: 500.0, Epsilon: 0.00998645168764533\n",
            "Episode: 246, Total Reward: 273.0, Best Score: 500.0, Epsilon: 0.00998645168764533\n",
            "Episode: 247, Total Reward: 255.0, Best Score: 500.0, Epsilon: 0.00998645168764533\n",
            "Episode: 248, Total Reward: 238.0, Best Score: 500.0, Epsilon: 0.00998645168764533\n",
            "Episode: 249, Total Reward: 220.0, Best Score: 500.0, Epsilon: 0.00998645168764533\n",
            "Episode: 250, Total Reward: 315.0, Best Score: 500.0, Epsilon: 0.00998645168764533\n",
            "Episode: 251, Total Reward: 306.0, Best Score: 500.0, Epsilon: 0.00998645168764533\n",
            "Episode: 252, Total Reward: 459.0, Best Score: 500.0, Epsilon: 0.00998645168764533\n",
            "Episode: 253, Total Reward: 301.0, Best Score: 500.0, Epsilon: 0.00998645168764533\n",
            "Episode: 254, Total Reward: 344.0, Best Score: 500.0, Epsilon: 0.00998645168764533\n",
            "Episode: 255, Total Reward: 268.0, Best Score: 500.0, Epsilon: 0.00998645168764533\n",
            "Episode: 256, Total Reward: 396.0, Best Score: 500.0, Epsilon: 0.00998645168764533\n",
            "Episode: 257, Total Reward: 241.0, Best Score: 500.0, Epsilon: 0.00998645168764533\n",
            "Episode: 258, Total Reward: 237.0, Best Score: 500.0, Epsilon: 0.00998645168764533\n",
            "Episode: 259, Total Reward: 321.0, Best Score: 500.0, Epsilon: 0.00998645168764533\n",
            "Episode: 260, Total Reward: 231.0, Best Score: 500.0, Epsilon: 0.00998645168764533\n",
            "Episode: 261, Total Reward: 231.0, Best Score: 500.0, Epsilon: 0.00998645168764533\n",
            "Episode: 262, Total Reward: 265.0, Best Score: 500.0, Epsilon: 0.00998645168764533\n",
            "Episode: 263, Total Reward: 286.0, Best Score: 500.0, Epsilon: 0.00998645168764533\n",
            "Episode: 264, Total Reward: 199.0, Best Score: 500.0, Epsilon: 0.00998645168764533\n",
            "Episode: 265, Total Reward: 258.0, Best Score: 500.0, Epsilon: 0.00998645168764533\n",
            "Episode: 266, Total Reward: 271.0, Best Score: 500.0, Epsilon: 0.00998645168764533\n",
            "Episode: 267, Total Reward: 220.0, Best Score: 500.0, Epsilon: 0.00998645168764533\n",
            "Episode: 268, Total Reward: 372.0, Best Score: 500.0, Epsilon: 0.00998645168764533\n",
            "Episode: 269, Total Reward: 221.0, Best Score: 500.0, Epsilon: 0.00998645168764533\n",
            "Episode: 270, Total Reward: 260.0, Best Score: 500.0, Epsilon: 0.00998645168764533\n",
            "Episode: 271, Total Reward: 298.0, Best Score: 500.0, Epsilon: 0.00998645168764533\n",
            "Episode: 272, Total Reward: 278.0, Best Score: 500.0, Epsilon: 0.00998645168764533\n",
            "Episode: 273, Total Reward: 215.0, Best Score: 500.0, Epsilon: 0.00998645168764533\n",
            "Episode: 274, Total Reward: 368.0, Best Score: 500.0, Epsilon: 0.00998645168764533\n",
            "Episode: 275, Total Reward: 253.0, Best Score: 500.0, Epsilon: 0.00998645168764533\n",
            "Episode: 276, Total Reward: 231.0, Best Score: 500.0, Epsilon: 0.00998645168764533\n",
            "Episode: 277, Total Reward: 247.0, Best Score: 500.0, Epsilon: 0.00998645168764533\n",
            "Episode: 278, Total Reward: 257.0, Best Score: 500.0, Epsilon: 0.00998645168764533\n",
            "Episode: 279, Total Reward: 285.0, Best Score: 500.0, Epsilon: 0.00998645168764533\n",
            "Episode: 280, Total Reward: 208.0, Best Score: 500.0, Epsilon: 0.00998645168764533\n",
            "Episode: 281, Total Reward: 210.0, Best Score: 500.0, Epsilon: 0.00998645168764533\n",
            "Episode: 282, Total Reward: 283.0, Best Score: 500.0, Epsilon: 0.00998645168764533\n",
            "Episode: 283, Total Reward: 234.0, Best Score: 500.0, Epsilon: 0.00998645168764533\n",
            "Episode: 284, Total Reward: 258.0, Best Score: 500.0, Epsilon: 0.00998645168764533\n",
            "Episode: 285, Total Reward: 318.0, Best Score: 500.0, Epsilon: 0.00998645168764533\n",
            "Episode: 286, Total Reward: 228.0, Best Score: 500.0, Epsilon: 0.00998645168764533\n",
            "Episode: 287, Total Reward: 252.0, Best Score: 500.0, Epsilon: 0.00998645168764533\n",
            "Episode: 288, Total Reward: 406.0, Best Score: 500.0, Epsilon: 0.00998645168764533\n",
            "Episode: 289, Total Reward: 258.0, Best Score: 500.0, Epsilon: 0.00998645168764533\n",
            "Episode: 290, Total Reward: 280.0, Best Score: 500.0, Epsilon: 0.00998645168764533\n",
            "Episode: 291, Total Reward: 358.0, Best Score: 500.0, Epsilon: 0.00998645168764533\n",
            "Episode: 292, Total Reward: 500.0, Best Score: 500.0, Epsilon: 0.00998645168764533\n",
            "Episode: 293, Total Reward: 221.0, Best Score: 500.0, Epsilon: 0.00998645168764533\n",
            "Episode: 294, Total Reward: 500.0, Best Score: 500.0, Epsilon: 0.00998645168764533\n",
            "Episode: 295, Total Reward: 290.0, Best Score: 500.0, Epsilon: 0.00998645168764533\n",
            "Episode: 296, Total Reward: 229.0, Best Score: 500.0, Epsilon: 0.00998645168764533\n",
            "Episode: 297, Total Reward: 207.0, Best Score: 500.0, Epsilon: 0.00998645168764533\n",
            "Episode: 298, Total Reward: 500.0, Best Score: 500.0, Epsilon: 0.00998645168764533\n",
            "Episode: 299, Total Reward: 221.0, Best Score: 500.0, Epsilon: 0.00998645168764533\n",
            "Episode: 300, Total Reward: 500.0, Best Score: 500.0, Epsilon: 0.00998645168764533\n",
            "Episode: 301, Total Reward: 200.0, Best Score: 500.0, Epsilon: 0.00998645168764533\n",
            "Episode: 302, Total Reward: 285.0, Best Score: 500.0, Epsilon: 0.00998645168764533\n",
            "Episode: 303, Total Reward: 216.0, Best Score: 500.0, Epsilon: 0.00998645168764533\n",
            "Episode: 304, Total Reward: 179.0, Best Score: 500.0, Epsilon: 0.00998645168764533\n",
            "Episode: 305, Total Reward: 232.0, Best Score: 500.0, Epsilon: 0.00998645168764533\n",
            "Episode: 306, Total Reward: 221.0, Best Score: 500.0, Epsilon: 0.00998645168764533\n",
            "Episode: 307, Total Reward: 443.0, Best Score: 500.0, Epsilon: 0.00998645168764533\n",
            "Episode: 308, Total Reward: 272.0, Best Score: 500.0, Epsilon: 0.00998645168764533\n",
            "Episode: 309, Total Reward: 218.0, Best Score: 500.0, Epsilon: 0.00998645168764533\n",
            "Episode: 310, Total Reward: 228.0, Best Score: 500.0, Epsilon: 0.00998645168764533\n",
            "Episode: 311, Total Reward: 223.0, Best Score: 500.0, Epsilon: 0.00998645168764533\n",
            "Episode: 312, Total Reward: 192.0, Best Score: 500.0, Epsilon: 0.00998645168764533\n",
            "Episode: 313, Total Reward: 224.0, Best Score: 500.0, Epsilon: 0.00998645168764533\n",
            "Episode: 314, Total Reward: 195.0, Best Score: 500.0, Epsilon: 0.00998645168764533\n",
            "Episode: 315, Total Reward: 191.0, Best Score: 500.0, Epsilon: 0.00998645168764533\n",
            "Episode: 316, Total Reward: 202.0, Best Score: 500.0, Epsilon: 0.00998645168764533\n",
            "Episode: 317, Total Reward: 214.0, Best Score: 500.0, Epsilon: 0.00998645168764533\n",
            "Episode: 318, Total Reward: 206.0, Best Score: 500.0, Epsilon: 0.00998645168764533\n",
            "Episode: 319, Total Reward: 203.0, Best Score: 500.0, Epsilon: 0.00998645168764533\n",
            "Episode: 320, Total Reward: 193.0, Best Score: 500.0, Epsilon: 0.00998645168764533\n",
            "Episode: 321, Total Reward: 267.0, Best Score: 500.0, Epsilon: 0.00998645168764533\n",
            "Episode: 322, Total Reward: 272.0, Best Score: 500.0, Epsilon: 0.00998645168764533\n",
            "Episode: 323, Total Reward: 183.0, Best Score: 500.0, Epsilon: 0.00998645168764533\n",
            "Episode: 324, Total Reward: 198.0, Best Score: 500.0, Epsilon: 0.00998645168764533\n",
            "Episode: 325, Total Reward: 224.0, Best Score: 500.0, Epsilon: 0.00998645168764533\n",
            "Episode: 326, Total Reward: 246.0, Best Score: 500.0, Epsilon: 0.00998645168764533\n",
            "Episode: 327, Total Reward: 256.0, Best Score: 500.0, Epsilon: 0.00998645168764533\n",
            "Episode: 328, Total Reward: 181.0, Best Score: 500.0, Epsilon: 0.00998645168764533\n",
            "Episode: 329, Total Reward: 214.0, Best Score: 500.0, Epsilon: 0.00998645168764533\n",
            "Episode: 330, Total Reward: 246.0, Best Score: 500.0, Epsilon: 0.00998645168764533\n",
            "Episode: 331, Total Reward: 192.0, Best Score: 500.0, Epsilon: 0.00998645168764533\n",
            "Episode: 332, Total Reward: 192.0, Best Score: 500.0, Epsilon: 0.00998645168764533\n",
            "Episode: 333, Total Reward: 179.0, Best Score: 500.0, Epsilon: 0.00998645168764533\n",
            "Episode: 334, Total Reward: 201.0, Best Score: 500.0, Epsilon: 0.00998645168764533\n",
            "Episode: 335, Total Reward: 500.0, Best Score: 500.0, Epsilon: 0.00998645168764533\n",
            "Episode: 336, Total Reward: 119.0, Best Score: 500.0, Epsilon: 0.00998645168764533\n",
            "Episode: 337, Total Reward: 183.0, Best Score: 500.0, Epsilon: 0.00998645168764533\n",
            "Episode: 338, Total Reward: 121.0, Best Score: 500.0, Epsilon: 0.00998645168764533\n",
            "Episode: 339, Total Reward: 344.0, Best Score: 500.0, Epsilon: 0.00998645168764533\n",
            "Episode: 340, Total Reward: 140.0, Best Score: 500.0, Epsilon: 0.00998645168764533\n",
            "Episode: 341, Total Reward: 500.0, Best Score: 500.0, Epsilon: 0.00998645168764533\n",
            "Episode: 342, Total Reward: 209.0, Best Score: 500.0, Epsilon: 0.00998645168764533\n",
            "Episode: 343, Total Reward: 323.0, Best Score: 500.0, Epsilon: 0.00998645168764533\n",
            "Episode: 344, Total Reward: 249.0, Best Score: 500.0, Epsilon: 0.00998645168764533\n",
            "Episode: 345, Total Reward: 325.0, Best Score: 500.0, Epsilon: 0.00998645168764533\n",
            "Episode: 346, Total Reward: 306.0, Best Score: 500.0, Epsilon: 0.00998645168764533\n",
            "Episode: 347, Total Reward: 274.0, Best Score: 500.0, Epsilon: 0.00998645168764533\n",
            "Episode: 348, Total Reward: 254.0, Best Score: 500.0, Epsilon: 0.00998645168764533\n",
            "Episode: 349, Total Reward: 500.0, Best Score: 500.0, Epsilon: 0.00998645168764533\n",
            "Episode: 350, Total Reward: 439.0, Best Score: 500.0, Epsilon: 0.00998645168764533\n",
            "Episode: 351, Total Reward: 453.0, Best Score: 500.0, Epsilon: 0.00998645168764533\n",
            "Episode: 352, Total Reward: 500.0, Best Score: 500.0, Epsilon: 0.00998645168764533\n",
            "Episode: 353, Total Reward: 500.0, Best Score: 500.0, Epsilon: 0.00998645168764533\n",
            "Episode: 354, Total Reward: 389.0, Best Score: 500.0, Epsilon: 0.00998645168764533\n",
            "Episode: 355, Total Reward: 500.0, Best Score: 500.0, Epsilon: 0.00998645168764533\n",
            "Episode: 356, Total Reward: 244.0, Best Score: 500.0, Epsilon: 0.00998645168764533\n",
            "Episode: 357, Total Reward: 388.0, Best Score: 500.0, Epsilon: 0.00998645168764533\n",
            "Episode: 358, Total Reward: 500.0, Best Score: 500.0, Epsilon: 0.00998645168764533\n",
            "Episode: 359, Total Reward: 500.0, Best Score: 500.0, Epsilon: 0.00998645168764533\n",
            "Episode: 360, Total Reward: 365.0, Best Score: 500.0, Epsilon: 0.00998645168764533\n",
            "Episode: 361, Total Reward: 369.0, Best Score: 500.0, Epsilon: 0.00998645168764533\n",
            "Episode: 362, Total Reward: 249.0, Best Score: 500.0, Epsilon: 0.00998645168764533\n",
            "Episode: 363, Total Reward: 498.0, Best Score: 500.0, Epsilon: 0.00998645168764533\n",
            "Episode: 364, Total Reward: 500.0, Best Score: 500.0, Epsilon: 0.00998645168764533\n",
            "Episode: 365, Total Reward: 500.0, Best Score: 500.0, Epsilon: 0.00998645168764533\n",
            "Episode: 366, Total Reward: 500.0, Best Score: 500.0, Epsilon: 0.00998645168764533\n",
            "Episode: 367, Total Reward: 500.0, Best Score: 500.0, Epsilon: 0.00998645168764533\n",
            "Episode: 368, Total Reward: 500.0, Best Score: 500.0, Epsilon: 0.00998645168764533\n",
            "Episode: 369, Total Reward: 500.0, Best Score: 500.0, Epsilon: 0.00998645168764533\n",
            "Episode: 370, Total Reward: 500.0, Best Score: 500.0, Epsilon: 0.00998645168764533\n",
            "Episode: 371, Total Reward: 500.0, Best Score: 500.0, Epsilon: 0.00998645168764533\n",
            "Episode: 372, Total Reward: 500.0, Best Score: 500.0, Epsilon: 0.00998645168764533\n",
            "Episode: 373, Total Reward: 489.0, Best Score: 500.0, Epsilon: 0.00998645168764533\n",
            "Episode: 374, Total Reward: 500.0, Best Score: 500.0, Epsilon: 0.00998645168764533\n",
            "Episode: 375, Total Reward: 500.0, Best Score: 500.0, Epsilon: 0.00998645168764533\n",
            "Episode: 376, Total Reward: 500.0, Best Score: 500.0, Epsilon: 0.00998645168764533\n",
            "Episode: 377, Total Reward: 500.0, Best Score: 500.0, Epsilon: 0.00998645168764533\n",
            "Episode: 378, Total Reward: 500.0, Best Score: 500.0, Epsilon: 0.00998645168764533\n",
            "Episode: 379, Total Reward: 500.0, Best Score: 500.0, Epsilon: 0.00998645168764533\n",
            "Episode: 380, Total Reward: 500.0, Best Score: 500.0, Epsilon: 0.00998645168764533\n",
            "Episode: 381, Total Reward: 340.0, Best Score: 500.0, Epsilon: 0.00998645168764533\n",
            "Episode: 382, Total Reward: 500.0, Best Score: 500.0, Epsilon: 0.00998645168764533\n",
            "Episode: 383, Total Reward: 405.0, Best Score: 500.0, Epsilon: 0.00998645168764533\n",
            "Episode: 384, Total Reward: 500.0, Best Score: 500.0, Epsilon: 0.00998645168764533\n",
            "Episode: 385, Total Reward: 500.0, Best Score: 500.0, Epsilon: 0.00998645168764533\n",
            "Episode: 386, Total Reward: 500.0, Best Score: 500.0, Epsilon: 0.00998645168764533\n",
            "Episode: 387, Total Reward: 500.0, Best Score: 500.0, Epsilon: 0.00998645168764533\n",
            "Episode: 388, Total Reward: 500.0, Best Score: 500.0, Epsilon: 0.00998645168764533\n",
            "Episode: 389, Total Reward: 500.0, Best Score: 500.0, Epsilon: 0.00998645168764533\n",
            "Episode: 390, Total Reward: 232.0, Best Score: 500.0, Epsilon: 0.00998645168764533\n",
            "Episode: 391, Total Reward: 500.0, Best Score: 500.0, Epsilon: 0.00998645168764533\n",
            "Episode: 392, Total Reward: 500.0, Best Score: 500.0, Epsilon: 0.00998645168764533\n",
            "Episode: 393, Total Reward: 500.0, Best Score: 500.0, Epsilon: 0.00998645168764533\n",
            "Episode: 394, Total Reward: 500.0, Best Score: 500.0, Epsilon: 0.00998645168764533\n",
            "Episode: 395, Total Reward: 189.0, Best Score: 500.0, Epsilon: 0.00998645168764533\n",
            "Episode: 396, Total Reward: 289.0, Best Score: 500.0, Epsilon: 0.00998645168764533\n",
            "Episode: 397, Total Reward: 209.0, Best Score: 500.0, Epsilon: 0.00998645168764533\n",
            "Episode: 398, Total Reward: 196.0, Best Score: 500.0, Epsilon: 0.00998645168764533\n",
            "Episode: 399, Total Reward: 395.0, Best Score: 500.0, Epsilon: 0.00998645168764533\n",
            "Episode: 400, Total Reward: 500.0, Best Score: 500.0, Epsilon: 0.00998645168764533\n",
            "Episode: 401, Total Reward: 500.0, Best Score: 500.0, Epsilon: 0.00998645168764533\n",
            "Episode: 402, Total Reward: 500.0, Best Score: 500.0, Epsilon: 0.00998645168764533\n",
            "Episode: 403, Total Reward: 500.0, Best Score: 500.0, Epsilon: 0.00998645168764533\n",
            "Episode: 404, Total Reward: 215.0, Best Score: 500.0, Epsilon: 0.00998645168764533\n",
            "Episode: 405, Total Reward: 500.0, Best Score: 500.0, Epsilon: 0.00998645168764533\n",
            "Episode: 406, Total Reward: 500.0, Best Score: 500.0, Epsilon: 0.00998645168764533\n",
            "Episode: 407, Total Reward: 500.0, Best Score: 500.0, Epsilon: 0.00998645168764533\n",
            "Episode: 408, Total Reward: 500.0, Best Score: 500.0, Epsilon: 0.00998645168764533\n",
            "Episode: 409, Total Reward: 500.0, Best Score: 500.0, Epsilon: 0.00998645168764533\n",
            "Episode: 410, Total Reward: 500.0, Best Score: 500.0, Epsilon: 0.00998645168764533\n",
            "Episode: 411, Total Reward: 500.0, Best Score: 500.0, Epsilon: 0.00998645168764533\n",
            "Episode: 412, Total Reward: 500.0, Best Score: 500.0, Epsilon: 0.00998645168764533\n",
            "Episode: 413, Total Reward: 500.0, Best Score: 500.0, Epsilon: 0.00998645168764533\n",
            "Episode: 414, Total Reward: 500.0, Best Score: 500.0, Epsilon: 0.00998645168764533\n",
            "Episode: 415, Total Reward: 500.0, Best Score: 500.0, Epsilon: 0.00998645168764533\n",
            "Episode: 416, Total Reward: 500.0, Best Score: 500.0, Epsilon: 0.00998645168764533\n",
            "Episode: 417, Total Reward: 500.0, Best Score: 500.0, Epsilon: 0.00998645168764533\n",
            "Episode: 418, Total Reward: 500.0, Best Score: 500.0, Epsilon: 0.00998645168764533\n",
            "Episode: 419, Total Reward: 500.0, Best Score: 500.0, Epsilon: 0.00998645168764533\n",
            "Episode: 420, Total Reward: 500.0, Best Score: 500.0, Epsilon: 0.00998645168764533\n",
            "Episode: 421, Total Reward: 500.0, Best Score: 500.0, Epsilon: 0.00998645168764533\n",
            "Episode: 422, Total Reward: 500.0, Best Score: 500.0, Epsilon: 0.00998645168764533\n",
            "Episode: 423, Total Reward: 500.0, Best Score: 500.0, Epsilon: 0.00998645168764533\n",
            "Episode: 424, Total Reward: 500.0, Best Score: 500.0, Epsilon: 0.00998645168764533\n",
            "Episode: 425, Total Reward: 500.0, Best Score: 500.0, Epsilon: 0.00998645168764533\n",
            "Episode: 426, Total Reward: 500.0, Best Score: 500.0, Epsilon: 0.00998645168764533\n",
            "Episode: 427, Total Reward: 500.0, Best Score: 500.0, Epsilon: 0.00998645168764533\n",
            "Episode: 428, Total Reward: 500.0, Best Score: 500.0, Epsilon: 0.00998645168764533\n",
            "Episode: 429, Total Reward: 500.0, Best Score: 500.0, Epsilon: 0.00998645168764533\n",
            "Episode: 430, Total Reward: 500.0, Best Score: 500.0, Epsilon: 0.00998645168764533\n",
            "Episode: 431, Total Reward: 500.0, Best Score: 500.0, Epsilon: 0.00998645168764533\n",
            "Episode: 432, Total Reward: 500.0, Best Score: 500.0, Epsilon: 0.00998645168764533\n"
          ]
        },
        {
          "output_type": "error",
          "ename": "KeyboardInterrupt",
          "evalue": "",
          "traceback": [
            "\u001b[0;31m---------------------------------------------------------------------------\u001b[0m",
            "\u001b[0;31mKeyboardInterrupt\u001b[0m                         Traceback (most recent call last)",
            "\u001b[0;32m<ipython-input-20-4b58830931d2>\u001b[0m in \u001b[0;36m<cell line: 0>\u001b[0;34m()\u001b[0m\n\u001b[1;32m     23\u001b[0m             \u001b[0;31m# print(q_values[0].shape)\u001b[0m\u001b[0;34m\u001b[0m\u001b[0;34m\u001b[0m\u001b[0m\n\u001b[1;32m     24\u001b[0m             \u001b[0;31m# action = np.argmax(q_values[0])\u001b[0m\u001b[0;34m\u001b[0m\u001b[0;34m\u001b[0m\u001b[0m\n\u001b[0;32m---> 25\u001b[0;31m             \u001b[0maction\u001b[0m \u001b[0;34m=\u001b[0m \u001b[0mint\u001b[0m\u001b[0;34m(\u001b[0m\u001b[0mnp\u001b[0m\u001b[0;34m.\u001b[0m\u001b[0margmax\u001b[0m\u001b[0;34m(\u001b[0m\u001b[0mq_values\u001b[0m\u001b[0;34m[\u001b[0m\u001b[0;36m0\u001b[0m\u001b[0;34m]\u001b[0m\u001b[0;34m)\u001b[0m\u001b[0;34m)\u001b[0m\u001b[0;34m\u001b[0m\u001b[0;34m\u001b[0m\u001b[0m\n\u001b[0m\u001b[1;32m     26\u001b[0m \u001b[0;34m\u001b[0m\u001b[0m\n\u001b[1;32m     27\u001b[0m         \u001b[0;31m# Take action in the environment\u001b[0m\u001b[0;34m\u001b[0m\u001b[0;34m\u001b[0m\u001b[0m\n",
            "\u001b[0;32m/usr/local/lib/python3.11/dist-packages/jax/_src/array.py\u001b[0m in \u001b[0;36m__int__\u001b[0;34m(self)\u001b[0m\n\u001b[1;32m    285\u001b[0m   \u001b[0;32mdef\u001b[0m \u001b[0m__int__\u001b[0m\u001b[0;34m(\u001b[0m\u001b[0mself\u001b[0m\u001b[0;34m)\u001b[0m\u001b[0;34m:\u001b[0m\u001b[0;34m\u001b[0m\u001b[0;34m\u001b[0m\u001b[0m\n\u001b[1;32m    286\u001b[0m     \u001b[0mcore\u001b[0m\u001b[0;34m.\u001b[0m\u001b[0mcheck_scalar_conversion\u001b[0m\u001b[0;34m(\u001b[0m\u001b[0mself\u001b[0m\u001b[0;34m)\u001b[0m\u001b[0;34m\u001b[0m\u001b[0;34m\u001b[0m\u001b[0m\n\u001b[0;32m--> 287\u001b[0;31m     \u001b[0;32mreturn\u001b[0m \u001b[0mself\u001b[0m\u001b[0;34m.\u001b[0m\u001b[0m_value\u001b[0m\u001b[0;34m.\u001b[0m\u001b[0m__int__\u001b[0m\u001b[0;34m(\u001b[0m\u001b[0;34m)\u001b[0m\u001b[0;34m\u001b[0m\u001b[0;34m\u001b[0m\u001b[0m\n\u001b[0m\u001b[1;32m    288\u001b[0m \u001b[0;34m\u001b[0m\u001b[0m\n\u001b[1;32m    289\u001b[0m   \u001b[0;32mdef\u001b[0m \u001b[0m__complex__\u001b[0m\u001b[0;34m(\u001b[0m\u001b[0mself\u001b[0m\u001b[0;34m)\u001b[0m\u001b[0;34m:\u001b[0m\u001b[0;34m\u001b[0m\u001b[0;34m\u001b[0m\u001b[0m\n",
            "\u001b[0;32m/usr/local/lib/python3.11/dist-packages/jax/_src/profiler.py\u001b[0m in \u001b[0;36mwrapper\u001b[0;34m(*args, **kwargs)\u001b[0m\n\u001b[1;32m    331\u001b[0m   \u001b[0;32mdef\u001b[0m \u001b[0mwrapper\u001b[0m\u001b[0;34m(\u001b[0m\u001b[0;34m*\u001b[0m\u001b[0margs\u001b[0m\u001b[0;34m,\u001b[0m \u001b[0;34m**\u001b[0m\u001b[0mkwargs\u001b[0m\u001b[0;34m)\u001b[0m\u001b[0;34m:\u001b[0m\u001b[0;34m\u001b[0m\u001b[0;34m\u001b[0m\u001b[0m\n\u001b[1;32m    332\u001b[0m     \u001b[0;32mwith\u001b[0m \u001b[0mTraceAnnotation\u001b[0m\u001b[0;34m(\u001b[0m\u001b[0mname\u001b[0m\u001b[0;34m,\u001b[0m \u001b[0;34m**\u001b[0m\u001b[0mdecorator_kwargs\u001b[0m\u001b[0;34m)\u001b[0m\u001b[0;34m:\u001b[0m\u001b[0;34m\u001b[0m\u001b[0;34m\u001b[0m\u001b[0m\n\u001b[0;32m--> 333\u001b[0;31m       \u001b[0;32mreturn\u001b[0m \u001b[0mfunc\u001b[0m\u001b[0;34m(\u001b[0m\u001b[0;34m*\u001b[0m\u001b[0margs\u001b[0m\u001b[0;34m,\u001b[0m \u001b[0;34m**\u001b[0m\u001b[0mkwargs\u001b[0m\u001b[0;34m)\u001b[0m\u001b[0;34m\u001b[0m\u001b[0;34m\u001b[0m\u001b[0m\n\u001b[0m\u001b[1;32m    334\u001b[0m     \u001b[0;32mreturn\u001b[0m \u001b[0mwrapper\u001b[0m\u001b[0;34m\u001b[0m\u001b[0;34m\u001b[0m\u001b[0m\n\u001b[1;32m    335\u001b[0m   \u001b[0;32mreturn\u001b[0m \u001b[0mwrapper\u001b[0m\u001b[0;34m\u001b[0m\u001b[0;34m\u001b[0m\u001b[0m\n",
            "\u001b[0;32m/usr/local/lib/python3.11/dist-packages/jax/_src/array.py\u001b[0m in \u001b[0;36m_value\u001b[0;34m(self)\u001b[0m\n\u001b[1;32m    611\u001b[0m     \u001b[0;32mif\u001b[0m \u001b[0mself\u001b[0m\u001b[0;34m.\u001b[0m\u001b[0m_npy_value\u001b[0m \u001b[0;32mis\u001b[0m \u001b[0;32mNone\u001b[0m\u001b[0;34m:\u001b[0m\u001b[0;34m\u001b[0m\u001b[0;34m\u001b[0m\u001b[0m\n\u001b[1;32m    612\u001b[0m       \u001b[0;32mif\u001b[0m \u001b[0mself\u001b[0m\u001b[0;34m.\u001b[0m\u001b[0mis_fully_replicated\u001b[0m\u001b[0;34m:\u001b[0m\u001b[0;34m\u001b[0m\u001b[0;34m\u001b[0m\u001b[0m\n\u001b[0;32m--> 613\u001b[0;31m         \u001b[0mself\u001b[0m\u001b[0;34m.\u001b[0m\u001b[0m_npy_value\u001b[0m \u001b[0;34m=\u001b[0m \u001b[0mself\u001b[0m\u001b[0;34m.\u001b[0m\u001b[0m_single_device_array_to_np_array\u001b[0m\u001b[0;34m(\u001b[0m\u001b[0;34m)\u001b[0m\u001b[0;34m\u001b[0m\u001b[0;34m\u001b[0m\u001b[0m\n\u001b[0m\u001b[1;32m    614\u001b[0m         \u001b[0mself\u001b[0m\u001b[0;34m.\u001b[0m\u001b[0m_npy_value\u001b[0m\u001b[0;34m.\u001b[0m\u001b[0mflags\u001b[0m\u001b[0;34m.\u001b[0m\u001b[0mwriteable\u001b[0m \u001b[0;34m=\u001b[0m \u001b[0;32mFalse\u001b[0m\u001b[0;34m\u001b[0m\u001b[0;34m\u001b[0m\u001b[0m\n\u001b[1;32m    615\u001b[0m         \u001b[0;32mreturn\u001b[0m \u001b[0mcast\u001b[0m\u001b[0;34m(\u001b[0m\u001b[0mnp\u001b[0m\u001b[0;34m.\u001b[0m\u001b[0mndarray\u001b[0m\u001b[0;34m,\u001b[0m \u001b[0mself\u001b[0m\u001b[0;34m.\u001b[0m\u001b[0m_npy_value\u001b[0m\u001b[0;34m)\u001b[0m\u001b[0;34m\u001b[0m\u001b[0;34m\u001b[0m\u001b[0m\n",
            "\u001b[0;31mKeyboardInterrupt\u001b[0m: "
          ]
        }
      ]
    },
    {
      "cell_type": "markdown",
      "source": [
        "# Testing"
      ],
      "metadata": {
        "id": "mnhdr3Na5UhK"
      }
    },
    {
      "cell_type": "code",
      "source": [
        "plt.figure(figsize=(10, 6))\n",
        "plt.plot(episode_rewards)\n",
        "plt.title('CartPole DQN Rewards')\n",
        "plt.xlabel('Episode')\n",
        "plt.ylabel('Total Reward')\n",
        "plt.grid(True)\n",
        "plt.show()"
      ],
      "metadata": {
        "colab": {
          "base_uri": "https://localhost:8080/",
          "height": 564
        },
        "id": "J-akmugU2eW7",
        "outputId": "657bd8d3-42d5-4fd9-f8c5-22a78cdc01f0"
      },
      "execution_count": 21,
      "outputs": [
        {
          "output_type": "display_data",
          "data": {
            "text/plain": [
              "<Figure size 1000x600 with 1 Axes>"
            ],
            "image/png": "[encoded data removed]"
          },
          "metadata": {}
        }
      ]
    },
    {
      "cell_type": "code",
      "source": [
        "# Test the model\n",
        "state = env.reset()\n",
        "done = False\n",
        "total_reward = 0\n",
        "\n",
        "while not done:\n",
        "    # Convert state to JAX array\n",
        "    state_jax = jnp.array([state])\n",
        "    q_values = forward_pass(params, state_jax)\n",
        "    action = int(np.argmax(q_values[0]))\n",
        "\n",
        "    # Take action in the environment\n",
        "    next_state, reward, done, _ = env.step(action)\n",
        "    state = next_state\n",
        "    total_reward += reward\n",
        "\n",
        "print(f'Test Episode Reward: {total_reward}')"
      ],
      "metadata": {
        "colab": {
          "base_uri": "https://localhost:8080/"
        },
        "id": "H_mWI7Tp2yAD",
        "outputId": "2ecb533f-f900-4e73-8515-43146bbf77d4"
      },
      "execution_count": 23,
      "outputs": [
        {
          "output_type": "stream",
          "name": "stdout",
          "text": [
            "Test Episode Reward: 233.0\n"
          ]
        }
      ]
    },
    {
      "cell_type": "code",
      "source": [
        "screens = []\n",
        "with gym.make(\n",
        "    'CartPole-v1',\n",
        "    # render_mode='human'\n",
        ") as _env:\n",
        "  state = _env.reset()\n",
        "  done = False\n",
        "  while not done:\n",
        "      screens.append(_env.render(mode='rgb_array'))\n",
        "      state_jax = jnp.array([state])\n",
        "      q_values = forward_pass(params, state_jax)\n",
        "      action = int(np.argmax(q_values[0]))\n",
        "      state, _, done, _ = _env.step(action)"
      ],
      "metadata": {
        "id": "2NqSUUjM20yt"
      },
      "execution_count": 38,
      "outputs": []
    },
    {
      "cell_type": "code",
      "source": [
        "plt.imshow(screens[-1])"
      ],
      "metadata": {
        "colab": {
          "base_uri": "https://localhost:8080/",
          "height": 413
        },
        "id": "NTSJNIWZ-xLb",
        "outputId": "daad5d08-e021-4d19-e8f4-701d06c80a06"
      },
      "execution_count": 49,
      "outputs": [
        {
          "output_type": "execute_result",
          "data": {
            "text/plain": [
              "<matplotlib.image.AxesImage at 0x79ab4a009790>"
            ]
          },
          "metadata": {},
          "execution_count": 49
        },
        {
          "output_type": "display_data",
          "data": {
            "text/plain": [
              "<Figure size 640x480 with 1 Axes>"
            ],
            "image/png": "[encoded data removed]"
          },
          "metadata": {}
        }
      ]
    },
    {
      "cell_type": "code",
      "source": [
        "!uv pip install fastgif --system"
      ],
      "metadata": {
        "colab": {
          "base_uri": "https://localhost:8080/"
        },
        "collapsed": true,
        "id": "igVXB2oG_fWw",
        "outputId": "8ceb2bde-1aec-4c69-9c4c-c6b22758c0ea"
      },
      "execution_count": 42,
      "outputs": [
        {
          "output_type": "stream",
          "name": "stdout",
          "text": [
            "\u001b[2mUsing Python 3.11.11 environment at: /usr\u001b[0m\n",
            "\u001b[2K\u001b[2mResolved \u001b[1m13 packages\u001b[0m \u001b[2min 496ms\u001b[0m\u001b[0m\n",
            "\u001b[2K   \u001b[36m\u001b[1mBuilding\u001b[0m\u001b[39m fastgif\u001b[2m==2.1\u001b[0m\n",
            "\u001b[2K\u001b[1A   \u001b[36m\u001b[1mBuilding\u001b[0m\u001b[39m fastgif\u001b[2m==2.1\u001b[0m\n",
            "\u001b[2K\u001b[1A   \u001b[36m\u001b[1mBuilding\u001b[0m\u001b[39m fastgif\u001b[2m==2.1\u001b[0m\n",
            "\u001b[2K\u001b[1A   \u001b[36m\u001b[1mBuilding\u001b[0m\u001b[39m fastgif\u001b[2m==2.1\u001b[0m\n",
            "\u001b[2K\u001b[1A   \u001b[36m\u001b[1mBuilding\u001b[0m\u001b[39m fastgif\u001b[2m==2.1\u001b[0m\n",
            "\u001b[2K\u001b[1A   \u001b[36m\u001b[1mBuilding\u001b[0m\u001b[39m fastgif\u001b[2m==2.1\u001b[0m\n",
            "\u001b[2K\u001b[1A      \u001b[32m\u001b[1mBuilt\u001b[0m\u001b[39m fastgif\u001b[2m==2.1\u001b[0m\n",
            "\u001b[2K\u001b[2mPrepared \u001b[1m1 package\u001b[0m \u001b[2min 1.00s\u001b[0m\u001b[0m\n",
            "\u001b[2K\u001b[2mInstalled \u001b[1m1 package\u001b[0m \u001b[2min 1ms\u001b[0m\u001b[0m\n",
            " \u001b[32m+\u001b[39m \u001b[1mfastgif\u001b[0m\u001b[2m==2.1\u001b[0m\n"
          ]
        }
      ]
    },
    {
      "cell_type": "code",
      "source": [
        "import fastgif"
      ],
      "metadata": {
        "id": "2JalQ7lg-6BT"
      },
      "execution_count": 43,
      "outputs": []
    },
    {
      "cell_type": "code",
      "source": [
        "def foo(idx):\n",
        "  fig, ax = plt.subplots(dpi=150)\n",
        "  ax.imshow(screens[idx])\n",
        "  return fig\n",
        "\n",
        "fastgif.make_gif(foo, len(screens), 'carpole.gif', show_progress=True, writer_kwargs={'duration': 0.01})"
      ],
      "metadata": {
        "colab": {
          "base_uri": "https://localhost:8080/",
          "height": 173,
          "referenced_widgets": [
            "dc28208c516944cc8f2526be069ee88e",
            "e670f382a4644794b1d6076bc54202e8",
            "8f4d4de74fbe4b2281dfa834de96f3cf",
            "0cebdb52951647aaa4c6f55b68db9d76",
            "a2c7c8e78e2e4981acd651d1bd5a2028",
            "371ac2fa08c64642a45805f305281c90",
            "7e1f27dc5cf347519512eb847b325df6",
            "d05a8e9a7a0843aa9c92da6c99a23d5d",
            "e67c7612b2eb46f094ed2c27a119725a",
            "468767da7976490090d9142a8f66700b",
            "a8e2398f1707481ea6ca32ec22f12ee0"
          ]
        },
        "id": "4nCvSUge_nRl",
        "outputId": "777a1fa7-f9d1-4086-eed5-60611d21c277"
      },
      "execution_count": 48,
      "outputs": [
        {
          "output_type": "display_data",
          "data": {
            "text/plain": [
              "Collecting results and creating a gif:   0%|          | 0/210 [00:00<?, ?it/s]"
            ],
            "application/vnd.jupyter.widget-view+json": {
              "version_major": 2,
              "version_minor": 0,
              "model_id": "dc28208c516944cc8f2526be069ee88e"
            }
          },
          "metadata": {}
        },
        {
          "output_type": "stream",
          "name": "stderr",
          "text": [
            "/usr/lib/python3.11/multiprocessing/popen_fork.py:66: RuntimeWarning: os.fork() was called. os.fork() is incompatible with multithreaded code, and JAX is multithreaded, so this will likely lead to a deadlock.\n",
            "  self.pid = os.fork()\n",
            "/usr/lib/python3.11/multiprocessing/popen_fork.py:66: RuntimeWarning: os.fork() was called. os.fork() is incompatible with multithreaded code, and JAX is multithreaded, so this will likely lead to a deadlock.\n",
            "  self.pid = os.fork()\n",
            "/usr/local/lib/python3.11/dist-packages/fastgif.py:100: DeprecationWarning: Starting with ImageIO v3 the behavior of this function will switch to that of iio.v3.imread. To keep the current behavior (and make this warning disappear) use `import imageio.v2 as imageio` or call `imageio.v2.imread` directly.\n",
            "  image = imageio.imread(os.path.join(where, f'{val}.png'))\n"
          ]
        }
      ]
    },
    {
      "cell_type": "code",
      "source": [],
      "metadata": {
        "id": "kXCzJ2ag_4DG"
      },
      "execution_count": null,
      "outputs": []
    }
  ]
}